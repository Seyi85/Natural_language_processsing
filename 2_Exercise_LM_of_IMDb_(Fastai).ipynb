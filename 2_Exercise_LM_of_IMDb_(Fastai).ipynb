{
  "nbformat": 4,
  "nbformat_minor": 0,
  "metadata": {
    "kernelspec": {
      "display_name": "Python 3",
      "language": "python",
      "name": "python3"
    },
    "language_info": {
      "codemirror_mode": {
        "name": "ipython",
        "version": 3
      },
      "file_extension": ".py",
      "mimetype": "text/x-python",
      "name": "python",
      "nbconvert_exporter": "python",
      "pygments_lexer": "ipython3",
      "version": "3.8.3"
    },
    "colab": {
      "name": "2. Exercise - LM of IMDb (Fastai).ipynb",
      "provenance": [],
      "toc_visible": true,
      "include_colab_link": true
    },
    "accelerator": "GPU"
  },
  "cells": [
    {
      "cell_type": "markdown",
      "metadata": {
        "id": "view-in-github",
        "colab_type": "text"
      },
      "source": [
        "<a href=\"https://colab.research.google.com/github/Seyi85/Natural_language_processsing/blob/main/2_Exercise_LM_of_IMDb_(Fastai).ipynb\" target=\"_parent\"><img src=\"https://colab.research.google.com/assets/colab-badge.svg\" alt=\"Open In Colab\"/></a>"
      ]
    },
    {
      "cell_type": "markdown",
      "metadata": {
        "id": "IenoSQc1CT26"
      },
      "source": [
        "# Finetune a Langage Model with Fast.ai\n",
        "Notebook based on:\n",
        "- https://github.com/fastai/fastbook/blob/master/10_nlp.ipynb\n",
        "- https://github.com/fastai/course-nlp/blob/master/5-nn-imdb.ipynb\n",
        "\n",
        "Video:\n",
        "- https://www.youtube.com/watch?v=WjnwWeGjZcM (From 0:00 to 55:00)"
      ]
    },
    {
      "cell_type": "markdown",
      "metadata": {
        "id": "zNKiIugrCT3B"
      },
      "source": [
        "#### Get latest Fast.ai version (without installing the Pytorch dependency)"
      ]
    },
    {
      "cell_type": "code",
      "metadata": {
        "colab": {
          "base_uri": "https://localhost:8080/"
        },
        "id": "ohvAZmcbCT3C",
        "outputId": "46774597-5cf1-412b-e80b-9b829d81ba4b"
      },
      "source": [
        "!pip install --upgrade --no-deps fastai\n",
        "!pip install --upgrade --no-deps fastcore"
      ],
      "execution_count": 1,
      "outputs": [
        {
          "output_type": "stream",
          "text": [
            "Collecting fastai\n",
            "\u001b[?25l  Downloading https://files.pythonhosted.org/packages/5b/53/edf39e15b7ec5e805a0b6f72adbe48497ebcfa009a245eca7044ae9ee1c6/fastai-2.3.0-py3-none-any.whl (193kB)\n",
            "\r\u001b[K     |█▊                              | 10kB 22.0MB/s eta 0:00:01\r\u001b[K     |███▍                            | 20kB 15.3MB/s eta 0:00:01\r\u001b[K     |█████                           | 30kB 13.5MB/s eta 0:00:01\r\u001b[K     |██████▊                         | 40kB 12.8MB/s eta 0:00:01\r\u001b[K     |████████▌                       | 51kB 7.6MB/s eta 0:00:01\r\u001b[K     |██████████▏                     | 61kB 8.9MB/s eta 0:00:01\r\u001b[K     |███████████▉                    | 71kB 9.1MB/s eta 0:00:01\r\u001b[K     |█████████████▌                  | 81kB 9.4MB/s eta 0:00:01\r\u001b[K     |███████████████▏                | 92kB 9.6MB/s eta 0:00:01\r\u001b[K     |█████████████████               | 102kB 8.4MB/s eta 0:00:01\r\u001b[K     |██████████████████▋             | 112kB 8.4MB/s eta 0:00:01\r\u001b[K     |████████████████████▎           | 122kB 8.4MB/s eta 0:00:01\r\u001b[K     |██████████████████████          | 133kB 8.4MB/s eta 0:00:01\r\u001b[K     |███████████████████████▊        | 143kB 8.4MB/s eta 0:00:01\r\u001b[K     |█████████████████████████▍      | 153kB 8.4MB/s eta 0:00:01\r\u001b[K     |███████████████████████████     | 163kB 8.4MB/s eta 0:00:01\r\u001b[K     |████████████████████████████▊   | 174kB 8.4MB/s eta 0:00:01\r\u001b[K     |██████████████████████████████▍ | 184kB 8.4MB/s eta 0:00:01\r\u001b[K     |████████████████████████████████| 194kB 8.4MB/s \n",
            "\u001b[?25hInstalling collected packages: fastai\n",
            "  Found existing installation: fastai 1.0.61\n",
            "    Uninstalling fastai-1.0.61:\n",
            "      Successfully uninstalled fastai-1.0.61\n",
            "Successfully installed fastai-2.3.0\n",
            "Collecting fastcore\n",
            "\u001b[?25l  Downloading https://files.pythonhosted.org/packages/0c/98/60404e2817cff113a6ae4023bc1772e23179408fdf7857fa410551758dfe/fastcore-1.3.19-py3-none-any.whl (53kB)\n",
            "\u001b[K     |████████████████████████████████| 61kB 4.9MB/s \n",
            "\u001b[?25hInstalling collected packages: fastcore\n",
            "Successfully installed fastcore-1.3.19\n"
          ],
          "name": "stdout"
        }
      ]
    },
    {
      "cell_type": "markdown",
      "metadata": {
        "id": "CC61AckKCT3D"
      },
      "source": [
        "#### Imports"
      ]
    },
    {
      "cell_type": "code",
      "metadata": {
        "id": "639RhG58CT3D"
      },
      "source": [
        "from fastai.text.all import * # We need fastai version 2 for this\n",
        "from pathlib import Path"
      ],
      "execution_count": 2,
      "outputs": []
    },
    {
      "cell_type": "markdown",
      "metadata": {
        "id": "4BdAaBtDCT3D"
      },
      "source": [
        "#### Check GPU usage"
      ]
    },
    {
      "cell_type": "code",
      "metadata": {
        "colab": {
          "base_uri": "https://localhost:8080/"
        },
        "id": "iz0_yR_7CT3E",
        "outputId": "03243253-f5b4-4c7e-ad17-824cf82d8626"
      },
      "source": [
        "if torch.cuda.is_available():\n",
        "    print(\"Using GPU:\", torch.cuda.get_device_name(0))\n",
        "else:\n",
        "    print(\"WARNING: Not GPU detected\")"
      ],
      "execution_count": 3,
      "outputs": [
        {
          "output_type": "stream",
          "text": [
            "Using GPU: Tesla T4\n"
          ],
          "name": "stdout"
        }
      ]
    },
    {
      "cell_type": "markdown",
      "metadata": {
        "id": "nBifTn6CCT3E"
      },
      "source": [
        "# Get data"
      ]
    },
    {
      "cell_type": "code",
      "metadata": {
        "id": "1rHb_vW5CT3F"
      },
      "source": [
        "CLOUD = True"
      ],
      "execution_count": 4,
      "outputs": []
    },
    {
      "cell_type": "code",
      "metadata": {
        "colab": {
          "base_uri": "https://localhost:8080/",
          "height": 34
        },
        "id": "TmCRmsxJCT3F",
        "outputId": "b11bec55-3f02-4984-c036-2582635e952b"
      },
      "source": [
        "if CLOUD:\n",
        "    # Download the data from internet\n",
        "    # If you are using cloud platforms\n",
        "    # like Google Colab or Kaggle kernels\n",
        "    data_path = untar_data(URLs.IMDB)\n",
        "else:\n",
        "    # Point to the path where the data is\n",
        "    # located at your local machine\n",
        "    data_path = Path(\"../../Datasets/NLP/IMBd\")\n",
        "    \n",
        "print(\"Dataset is loacted at:\", data_path)"
      ],
      "execution_count": 5,
      "outputs": [
        {
          "output_type": "display_data",
          "data": {
            "text/html": [
              ""
            ],
            "text/plain": [
              "<IPython.core.display.HTML object>"
            ]
          },
          "metadata": {
            "tags": []
          }
        },
        {
          "output_type": "stream",
          "text": [
            "Dataset is loacted at: /root/.fastai/data/imdb\n"
          ],
          "name": "stdout"
        }
      ]
    },
    {
      "cell_type": "code",
      "metadata": {
        "colab": {
          "base_uri": "https://localhost:8080/"
        },
        "id": "bX7OAuWMCT3F",
        "outputId": "153108fd-b3d6-48fa-cfe2-f4a485e72cbf"
      },
      "source": [
        "print(\"Train:\", len(list( (data_path/\"train\").glob('**/*.txt') )), \"reviews\")\n",
        "print(\"Test: \", len(list( (data_path/\"test\").glob('**/*.txt')  )), \"reviews\")\n",
        "print(\"Unsup:\", len(list( (data_path/\"unsup\").glob('**/*.txt') )), \"reviews\")"
      ],
      "execution_count": 6,
      "outputs": [
        {
          "output_type": "stream",
          "text": [
            "Train: 25000 reviews\n",
            "Test:  25000 reviews\n",
            "Unsup: 50000 reviews\n"
          ],
          "name": "stdout"
        }
      ]
    },
    {
      "cell_type": "markdown",
      "metadata": {
        "id": "3RIJnD0MCT3G"
      },
      "source": [
        "# Dataset"
      ]
    },
    {
      "cell_type": "code",
      "metadata": {
        "colab": {
          "base_uri": "https://localhost:8080/"
        },
        "id": "8HUd06sTCT3G",
        "outputId": "b5bf0bae-efb7-442c-9b45-7b47b1b7b299"
      },
      "source": [
        "files = get_text_files(data_path, folders = ['train', 'test', 'unsup'])\n",
        "files"
      ],
      "execution_count": 7,
      "outputs": [
        {
          "output_type": "execute_result",
          "data": {
            "text/plain": [
              "(#100000) [Path('/root/.fastai/data/imdb/test/pos/942_10.txt'),Path('/root/.fastai/data/imdb/test/pos/3967_9.txt'),Path('/root/.fastai/data/imdb/test/pos/3893_8.txt'),Path('/root/.fastai/data/imdb/test/pos/453_9.txt'),Path('/root/.fastai/data/imdb/test/pos/4033_8.txt'),Path('/root/.fastai/data/imdb/test/pos/6163_8.txt'),Path('/root/.fastai/data/imdb/test/pos/2399_10.txt'),Path('/root/.fastai/data/imdb/test/pos/12266_7.txt'),Path('/root/.fastai/data/imdb/test/pos/11109_7.txt'),Path('/root/.fastai/data/imdb/test/pos/1932_10.txt')...]"
            ]
          },
          "metadata": {
            "tags": []
          },
          "execution_count": 7
        }
      ]
    },
    {
      "cell_type": "code",
      "metadata": {
        "colab": {
          "base_uri": "https://localhost:8080/",
          "height": 35
        },
        "id": "VWrgu-VKCT3H",
        "outputId": "2cbfc768-8db0-47b3-9aa7-80e8fe0e35c4"
      },
      "source": [
        "txt = files[0].open().read()\n",
        "txt[:75]"
      ],
      "execution_count": 8,
      "outputs": [
        {
          "output_type": "execute_result",
          "data": {
            "application/vnd.google.colaboratory.intrinsic+json": {
              "type": "string"
            },
            "text/plain": [
              "'The Australian public and the Australian film industry are often heard to c'"
            ]
          },
          "metadata": {
            "tags": []
          },
          "execution_count": 8
        }
      ]
    },
    {
      "cell_type": "markdown",
      "metadata": {
        "id": "0_xJhIHxCT3H"
      },
      "source": [
        "## Dataloader\n",
        "\n",
        "At every epoch:\n",
        "\n",
        "1. **Shuffle** (sort randomly) our collection of texts.\n",
        "2. **Concatenate** the individual texts together into a big stream. \n",
        "3. **Cut** this stream into a certain number of batches (which is our batch size).\n",
        "   - For instance, if the stream has 50,000 tokens and we set a batch size of 10, this will give us 10 mini-streams of 5,000 tokens.\n",
        "   \n",
        "So to recap, at every epoch we shuffle our collection of documents and concatenate them into a stream of tokens. We then cut that stream into a batch of fixed-size consecutive mini-streams. Our model will then read the mini-streams in order, and thanks to an inner state, it will produce the same activation whatever sequence length we picked."
      ]
    },
    {
      "cell_type": "markdown",
      "metadata": {
        "id": "u2zaRdD_CT3I"
      },
      "source": [
        "- takes 5 mins for tokenization in Kaggle\n",
        "- takes 1 mins for tokenization in local machine"
      ]
    },
    {
      "cell_type": "code",
      "metadata": {
        "colab": {
          "base_uri": "https://localhost:8080/",
          "height": 17
        },
        "id": "pPUP-TeUCT3I",
        "outputId": "0ba9329e-db88-4d01-8e5c-af9e1a17233f"
      },
      "source": [
        "get_imdb = partial(get_text_files, folders=['train', 'test', 'unsup'])\n",
        "\n",
        "imdb_dls_lm = DataBlock(\n",
        "    blocks    = TextBlock.from_folder(data_path, is_lm=True),\n",
        "    get_items = get_imdb,\n",
        "    splitter  = RandomSplitter(0.1)\n",
        ").dataloaders(data_path, path=data_path, bs=64, seq_len=80)"
      ],
      "execution_count": 9,
      "outputs": [
        {
          "output_type": "display_data",
          "data": {
            "text/html": [
              ""
            ],
            "text/plain": [
              "<IPython.core.display.HTML object>"
            ]
          },
          "metadata": {
            "tags": []
          }
        }
      ]
    },
    {
      "cell_type": "code",
      "metadata": {
        "id": "Cmb_StTUCT3I",
        "colab": {
          "base_uri": "https://localhost:8080/",
          "height": 179
        },
        "outputId": "746ea8c2-8903-4fac-888b-488506a6a4ea"
      },
      "source": [
        "imdb_dls_lm.show_batch(max_n=2)"
      ],
      "execution_count": 10,
      "outputs": [
        {
          "output_type": "display_data",
          "data": {
            "text/html": [
              "<table border=\"1\" class=\"dataframe\">\n",
              "  <thead>\n",
              "    <tr style=\"text-align: right;\">\n",
              "      <th></th>\n",
              "      <th>text</th>\n",
              "      <th>text_</th>\n",
              "    </tr>\n",
              "  </thead>\n",
              "  <tbody>\n",
              "    <tr>\n",
              "      <th>0</th>\n",
              "      <td>xxbos yes i really said that , i ai n't into all that cgi superhero bull , i like all out action flicks like the mechanik , a brutal revenge movie with some of the best action iv'e seen for years . xxmaj dolph lundgren is a xxunk in this and made me remember how much i love him sure he was never as big a star as most of the action hero 's of the 80 's but as</td>\n",
              "      <td>yes i really said that , i ai n't into all that cgi superhero bull , i like all out action flicks like the mechanik , a brutal revenge movie with some of the best action iv'e seen for years . xxmaj dolph lundgren is a xxunk in this and made me remember how much i love him sure he was never as big a star as most of the action hero 's of the 80 's but as he</td>\n",
              "    </tr>\n",
              "    <tr>\n",
              "      <th>1</th>\n",
              "      <td>promising career . xxmaj as long as she keeps making more movies such as \" the xxmaj good xxmaj girl \" ( in which she 's terrific ) and less like \" along xxmaj came xxmaj polly , \" she 'll have a career of which she could be proud . \\n\\n xxmaj aniston tries desperately to overcome the limp material with which she 's working , but it 's a daunting task for any actress . xxmaj with the</td>\n",
              "      <td>career . xxmaj as long as she keeps making more movies such as \" the xxmaj good xxmaj girl \" ( in which she 's terrific ) and less like \" along xxmaj came xxmaj polly , \" she 'll have a career of which she could be proud . \\n\\n xxmaj aniston tries desperately to overcome the limp material with which she 's working , but it 's a daunting task for any actress . xxmaj with the exception</td>\n",
              "    </tr>\n",
              "  </tbody>\n",
              "</table>"
            ],
            "text/plain": [
              "<IPython.core.display.HTML object>"
            ]
          },
          "metadata": {
            "tags": []
          }
        }
      ]
    },
    {
      "cell_type": "code",
      "metadata": {
        "id": "dEMiIxnCCT3J",
        "colab": {
          "base_uri": "https://localhost:8080/"
        },
        "outputId": "7bfbe5a7-26dd-4a36-9ced-649a9cd6013a"
      },
      "source": [
        "print(imdb_dls_lm.vocab[:100])"
      ],
      "execution_count": 11,
      "outputs": [
        {
          "output_type": "stream",
          "text": [
            "['xxunk', 'xxpad', 'xxbos', 'xxeos', 'xxfld', 'xxrep', 'xxwrep', 'xxup', 'xxmaj', 'the', '.', ',', 'and', 'a', 'of', 'to', 'is', 'it', 'in', 'i', 'this', 'that', '\"', \"'s\", '-', 'was', '\\n\\n', 'as', 'with', 'for', 'movie', 'but', 'film', 'you', ')', 'on', \"n't\", '(', 'not', 'are', 'he', 'his', 'have', 'be', 'one', 'all', 'at', 'they', 'by', 'an', 'who', 'from', 'so', 'like', '!', 'there', 'or', 'just', 'her', 'do', 'about', 'has', 'out', \"'\", 'if', 'what', 'some', '?', 'good', 'when', 'more', 'very', 'she', 'up', 'would', 'no', '…', 'time', 'even', 'my', 'can', 'their', 'which', 'only', 'story', 'really', 'see', 'had', 'were', 'did', 'me', 'well', 'we', 'does', 'than', 'much', ':', 'could', 'bad', 'get']\n"
          ],
          "name": "stdout"
        }
      ]
    },
    {
      "cell_type": "code",
      "metadata": {
        "id": "mP3JG7fLCT3J",
        "colab": {
          "base_uri": "https://localhost:8080/"
        },
        "outputId": "1fb26195-dfe7-403f-e0ef-06758eff35c9"
      },
      "source": [
        "len(imdb_dls_lm.vocab)"
      ],
      "execution_count": 12,
      "outputs": [
        {
          "output_type": "execute_result",
          "data": {
            "text/plain": [
              "60008"
            ]
          },
          "metadata": {
            "tags": []
          },
          "execution_count": 12
        }
      ]
    },
    {
      "cell_type": "markdown",
      "metadata": {
        "id": "W1NRYRdwCT3J"
      },
      "source": [
        "# Create the Fastai learner (dataloader + model + loss)"
      ]
    },
    {
      "cell_type": "code",
      "metadata": {
        "id": "8pUMsQBGCT3K",
        "colab": {
          "base_uri": "https://localhost:8080/",
          "height": 17
        },
        "outputId": "38a18e71-2078-4160-a480-799d4c1843f3"
      },
      "source": [
        "learn = language_model_learner(\n",
        "    dls       = imdb_dls_lm,\n",
        "    arch      = AWD_LSTM,\n",
        "    drop_mult = 0.3, \n",
        "    metrics   = [accuracy, Perplexity()],\n",
        "    cbs       = [ShowGraphCallback]\n",
        ").to_fp16()"
      ],
      "execution_count": 13,
      "outputs": [
        {
          "output_type": "display_data",
          "data": {
            "text/html": [
              ""
            ],
            "text/plain": [
              "<IPython.core.display.HTML object>"
            ]
          },
          "metadata": {
            "tags": []
          }
        }
      ]
    },
    {
      "cell_type": "markdown",
      "metadata": {
        "id": "FobUkV52CT3K"
      },
      "source": [
        "### Text Generation BEFORE FINETUNNNG WITH IMDB (Just for fun :D)"
      ]
    },
    {
      "cell_type": "code",
      "metadata": {
        "id": "uke0LdEHCT3K",
        "colab": {
          "base_uri": "https://localhost:8080/",
          "height": 170
        },
        "outputId": "525bbed4-7b01-45e1-ec96-9737397173d6"
      },
      "source": [
        "TEXT        = \"The\"\n",
        "N_WORDS     = 40\n",
        "N_SENTENCES = 5\n",
        "\n",
        "preds = [learn.predict(TEXT, N_WORDS, temperature=0.75) for _ in range(N_SENTENCES)]\n",
        "\n",
        "print(\"\\n\\n\".join(preds))"
      ],
      "execution_count": 14,
      "outputs": [
        {
          "output_type": "display_data",
          "data": {
            "text/html": [
              ""
            ],
            "text/plain": [
              "<IPython.core.display.HTML object>"
            ]
          },
          "metadata": {
            "tags": []
          }
        },
        {
          "output_type": "display_data",
          "data": {
            "text/html": [
              ""
            ],
            "text/plain": [
              "<IPython.core.display.HTML object>"
            ]
          },
          "metadata": {
            "tags": []
          }
        },
        {
          "output_type": "display_data",
          "data": {
            "text/html": [
              ""
            ],
            "text/plain": [
              "<IPython.core.display.HTML object>"
            ]
          },
          "metadata": {
            "tags": []
          }
        },
        {
          "output_type": "display_data",
          "data": {
            "text/html": [
              ""
            ],
            "text/plain": [
              "<IPython.core.display.HTML object>"
            ]
          },
          "metadata": {
            "tags": []
          }
        },
        {
          "output_type": "display_data",
          "data": {
            "text/html": [
              ""
            ],
            "text/plain": [
              "<IPython.core.display.HTML object>"
            ]
          },
          "metadata": {
            "tags": []
          }
        },
        {
          "output_type": "stream",
          "text": [
            "The Doctor Who Meets Me = = = a Doctor Who Story ( also known as The Phantom Menace ) is a 2011 British science fiction action - adventure film\n",
            "\n",
            "The Spider - Man : The Movie Trailer by Michael Jackson , Inc . , Universal Pictures , CEO and Young Artist Studio , Film\n",
            "\n",
            "The American Civil War = a civil war , lasting from August 19 , 1899 to February 4 , 1950 , in the American Civil War . The war was pro -\n",
            "\n",
            "The Velvet Revolver was released in France on 19 February 1993 . The album is an anthology of rock and roll , as well as a range of musical styles . The album features a\n",
            "\n",
            "The Harry Potter and the Deathly Hallows – Part 2 , the seventh film in the series , was first released in the UK on 20 December 2011 . The Harry\n"
          ],
          "name": "stdout"
        }
      ]
    },
    {
      "cell_type": "markdown",
      "metadata": {
        "id": "PymKZvASCT3L"
      },
      "source": [
        "## Fine-Tuning the Language Model with IMDB\n",
        "- This takes 24:46 mins on GTX 1080ti 11GB\n",
        "- This takes 27:48 mins on Tesla P100 16GB (Kaggle GPU)\n",
        "- This takes ~22mins mins on Tesla T4 (Colab GPU)\n",
        "- This takes >30mins mins on Tesla K80 (Colab GPU)"
      ]
    },
    {
      "cell_type": "code",
      "metadata": {
        "id": "o2WbeRG9CT3L",
        "colab": {
          "base_uri": "https://localhost:8080/",
          "height": 331
        },
        "outputId": "8c688db5-469b-48c3-be71-02625fb752da"
      },
      "source": [
        "learn.fit_one_cycle(1, 2e-2)"
      ],
      "execution_count": 15,
      "outputs": [
        {
          "output_type": "display_data",
          "data": {
            "text/html": [
              "<table border=\"1\" class=\"dataframe\">\n",
              "  <thead>\n",
              "    <tr style=\"text-align: left;\">\n",
              "      <th>epoch</th>\n",
              "      <th>train_loss</th>\n",
              "      <th>valid_loss</th>\n",
              "      <th>accuracy</th>\n",
              "      <th>perplexity</th>\n",
              "      <th>time</th>\n",
              "    </tr>\n",
              "  </thead>\n",
              "  <tbody>\n",
              "    <tr>\n",
              "      <td>0</td>\n",
              "      <td>4.033856</td>\n",
              "      <td>3.914391</td>\n",
              "      <td>0.299283</td>\n",
              "      <td>50.118519</td>\n",
              "      <td>23:04</td>\n",
              "    </tr>\n",
              "  </tbody>\n",
              "</table>"
            ],
            "text/plain": [
              "<IPython.core.display.HTML object>"
            ]
          },
          "metadata": {
            "tags": []
          }
        },
        {
          "output_type": "display_data",
          "data": {
            "image/png": "[encoded data removed]",
            "text/plain": [
              "<Figure size 432x288 with 1 Axes>"
            ]
          },
          "metadata": {
            "tags": []
          }
        }
      ]
    },
    {
      "cell_type": "markdown",
      "metadata": {
        "id": "tV1B3uOHCT3L"
      },
      "source": [
        "### Saving and Loading Models\n",
        "You can easily save the state of your model like so:"
      ]
    },
    {
      "cell_type": "code",
      "metadata": {
        "id": "-PWaRU7jCT3M",
        "colab": {
          "base_uri": "https://localhost:8080/"
        },
        "outputId": "ca8b2de9-59fd-4dc1-e0fc-cfece16fc979"
      },
      "source": [
        "learn.save('IMDb_LM_1epoch_frozen')"
      ],
      "execution_count": 16,
      "outputs": [
        {
          "output_type": "execute_result",
          "data": {
            "text/plain": [
              "Path('/root/.fastai/data/imdb/models/IMDb_LM_1epoch_frozen.pth')"
            ]
          },
          "metadata": {
            "tags": []
          },
          "execution_count": 16
        }
      ]
    },
    {
      "cell_type": "code",
      "metadata": {
        "id": "6UoTGhDFCT3M",
        "colab": {
          "base_uri": "https://localhost:8080/"
        },
        "outputId": "60194e71-8e85-4655-c5df-ce4c258b9f3f"
      },
      "source": [
        "learn.path"
      ],
      "execution_count": 17,
      "outputs": [
        {
          "output_type": "execute_result",
          "data": {
            "text/plain": [
              "Path('/root/.fastai/data/imdb')"
            ]
          },
          "metadata": {
            "tags": []
          },
          "execution_count": 17
        }
      ]
    },
    {
      "cell_type": "markdown",
      "metadata": {
        "id": "-E315PtqCT3M"
      },
      "source": [
        "This will create a file in `learn.path/models/` named *IMDb_LM_1epoch_frozen.pth*. If you want to load your model in another machine after creating your `Learner` the same way, or resume training later, you can load the content of this file with:"
      ]
    },
    {
      "cell_type": "code",
      "metadata": {
        "id": "SA1iWSujCT3M"
      },
      "source": [
        "learn = learn.load('IMDb_LM_1epoch_frozen')"
      ],
      "execution_count": 18,
      "outputs": []
    },
    {
      "cell_type": "markdown",
      "metadata": {
        "id": "t2q6w-BqCT3N"
      },
      "source": [
        "Once the initial training has completed, we can continue fine-tuning the model after unfreezing:"
      ]
    },
    {
      "cell_type": "code",
      "metadata": {
        "id": "bwHmk7d0CT3N"
      },
      "source": [
        "#learn.unfreeze()\n",
        "#learn.fit_one_cycle(10, 2e-3)"
      ],
      "execution_count": 19,
      "outputs": []
    },
    {
      "cell_type": "markdown",
      "metadata": {
        "id": "xdd5SCTgCT3N"
      },
      "source": [
        "Once this is done, we save all of our model except the final layer that converts activations to probabilities of picking each token in our vocabulary. The model not including the final layer is called the *encoder*. We can save it with `save_encoder`:"
      ]
    },
    {
      "cell_type": "code",
      "metadata": {
        "id": "ByUf67wgCT3N"
      },
      "source": [
        "learn.save_encoder('finetuned_IMDb_LM')"
      ],
      "execution_count": 20,
      "outputs": []
    },
    {
      "cell_type": "markdown",
      "metadata": {
        "id": "pKAZoZaMCT3O"
      },
      "source": [
        "> jargon: Encoder: The model not including the task-specific final layer(s). This term means much the same thing as _body_ when applied to vision CNNs, but \"encoder\" tends to be more used for NLP and generative models.\n",
        "\n",
        "This completes the second stage of the text classification process: fine-tuning the language model. We can now use it to fine-tune a classifier using the IMDb sentiment labels."
      ]
    },
    {
      "cell_type": "markdown",
      "metadata": {
        "id": "TZ0ta2sVCT3O"
      },
      "source": [
        "### Text Generation AFTER FINETUNNNG WITH IMDB (Just for fun :D)\n",
        "Before we move on to fine-tuning the classifier, let's quickly try something different: using our model to generate random reviews. Since it's trained to guess what the next word of the sentence is, we can use the model to write new reviews:"
      ]
    },
    {
      "cell_type": "code",
      "metadata": {
        "id": "W5r4-SQECT3P",
        "colab": {
          "base_uri": "https://localhost:8080/",
          "height": 170
        },
        "outputId": "ccf5ce5c-687b-4f09-d8cb-ebc358505fa9"
      },
      "source": [
        "TEXT        = \"The\"\n",
        "N_WORDS     = 40\n",
        "N_SENTENCES = 5\n",
        "\n",
        "preds = [learn.predict(TEXT, N_WORDS, temperature=0.75) for _ in range(N_SENTENCES)]\n",
        "\n",
        "print(\"\\n\\n\".join(preds))"
      ],
      "execution_count": 21,
      "outputs": [
        {
          "output_type": "display_data",
          "data": {
            "text/html": [
              ""
            ],
            "text/plain": [
              "<IPython.core.display.HTML object>"
            ]
          },
          "metadata": {
            "tags": []
          }
        },
        {
          "output_type": "display_data",
          "data": {
            "text/html": [
              ""
            ],
            "text/plain": [
              "<IPython.core.display.HTML object>"
            ]
          },
          "metadata": {
            "tags": []
          }
        },
        {
          "output_type": "display_data",
          "data": {
            "text/html": [
              ""
            ],
            "text/plain": [
              "<IPython.core.display.HTML object>"
            ]
          },
          "metadata": {
            "tags": []
          }
        },
        {
          "output_type": "display_data",
          "data": {
            "text/html": [
              ""
            ],
            "text/plain": [
              "<IPython.core.display.HTML object>"
            ]
          },
          "metadata": {
            "tags": []
          }
        },
        {
          "output_type": "display_data",
          "data": {
            "text/html": [
              ""
            ],
            "text/plain": [
              "<IPython.core.display.HTML object>"
            ]
          },
          "metadata": {
            "tags": []
          }
        },
        {
          "output_type": "stream",
          "text": [
            "The first two films i saw in France were The Adventures of Don Juan ( the film itself ) and The Adventures of Don Juan ( the Great Adventures of\n",
            "\n",
            "The New York Times reporter ( i Dench ) , joe Keller ( the head of the New York City Homicide ( L.A . Confidential ) ) comes to\n",
            "\n",
            "The movie I 've seen my TV show The Grudge , i have seen this movie in the past 5 years , but i thought it was a Great Movie , and i would not\n",
            "\n",
            "The Nation of New York , United Kingdom , England , England , England , England , Wales and Sweden , many Americans are living elsewhere and have been\n",
            "\n",
            "The fight in the Battle of Stalingrad and the battle of Stalingrad is one of the better - made movies of recent times . The best part of the film is to see a modern Soviet\n"
          ],
          "name": "stdout"
        }
      ]
    },
    {
      "cell_type": "code",
      "metadata": {
        "id": "bXM5Y0i1CT3P",
        "colab": {
          "base_uri": "https://localhost:8080/",
          "height": 204
        },
        "outputId": "ac77f109-f42f-44f2-debc-01e1586b44c4"
      },
      "source": [
        "TEXT        = \"I liked this movie because\"\n",
        "N_WORDS     = 40\n",
        "N_SENTENCES = 5\n",
        "\n",
        "preds = [learn.predict(TEXT, N_WORDS, temperature=0.75) for _ in range(N_SENTENCES)]\n",
        "\n",
        "print(\"\\n\\n\".join(preds))"
      ],
      "execution_count": 22,
      "outputs": [
        {
          "output_type": "display_data",
          "data": {
            "text/html": [
              ""
            ],
            "text/plain": [
              "<IPython.core.display.HTML object>"
            ]
          },
          "metadata": {
            "tags": []
          }
        },
        {
          "output_type": "display_data",
          "data": {
            "text/html": [
              ""
            ],
            "text/plain": [
              "<IPython.core.display.HTML object>"
            ]
          },
          "metadata": {
            "tags": []
          }
        },
        {
          "output_type": "display_data",
          "data": {
            "text/html": [
              ""
            ],
            "text/plain": [
              "<IPython.core.display.HTML object>"
            ]
          },
          "metadata": {
            "tags": []
          }
        },
        {
          "output_type": "display_data",
          "data": {
            "text/html": [
              ""
            ],
            "text/plain": [
              "<IPython.core.display.HTML object>"
            ]
          },
          "metadata": {
            "tags": []
          }
        },
        {
          "output_type": "display_data",
          "data": {
            "text/html": [
              ""
            ],
            "text/plain": [
              "<IPython.core.display.HTML object>"
            ]
          },
          "metadata": {
            "tags": []
          }
        },
        {
          "output_type": "stream",
          "text": [
            "i liked this movie because i was so impressed by it . The story was fairly slow , but was boring . \n",
            "\n",
            " While Boats was a little above average , the plot was just what it was about . i have\n",
            "\n",
            "i liked this movie because it was a completely different story . i enjoyed I 'm looking forward to seeing Casablanca being viewed as a serious film in Europe . It is one of the few movies that is so near\n",
            "\n",
            "i liked this movie because i enjoyed it , but i thought it was going to be a great movie , and i caught it on a channel in Europe one night , and i came to see it ! Like this movie\n",
            "\n",
            "i liked this movie because of similarities to the film The Boogens , that followed the movie 's plot . i think this was also the best movie i have seen . I 've never seen a Crow movie before but\n",
            "\n",
            "i liked this movie because there is a lot more of a classic movie than a remake . The soundtrack was originally recorded by Edmund Nash and i CA n't BLAME me for John Lennon 's decision to\n"
          ],
          "name": "stdout"
        }
      ]
    },
    {
      "cell_type": "markdown",
      "metadata": {
        "id": "_zojI-W_CT3P"
      },
      "source": [
        "As you can see, we add some randomness (we pick a random word based on the probabilities returned by the model) so we don't get exactly the same review twice. Our model doesn't have any programmed knowledge of the structure of a sentence or grammar rules, yet it has clearly learned a lot about English sentences: we can see it capitalizes properly (*I* is just transformed to *i* because our rules require two characters or more to consider a word as capitalized, so it's normal to see it lowercased) and is using consistent tense. The general review makes sense at first glance, and it's only if you read carefully that you can notice something is a bit off. Not bad for a model trained in a couple of hours! \n",
        "\n",
        "But our end goal wasn't to train a model to generate reviews, but to classify them... so let's use this model to do just that."
      ]
    },
    {
      "cell_type": "markdown",
      "metadata": {
        "id": "XfJyy3N4CT3Q"
      },
      "source": [
        "# <center> END\n",
        "<center> We have fintuned the Language Model with the IMDb dataset.\n",
        "<center> The next step is using that model to train a classifier."
      ]
    }
  ]
}